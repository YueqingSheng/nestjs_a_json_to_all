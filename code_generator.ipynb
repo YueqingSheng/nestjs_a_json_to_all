{
 "cells": [
  {
   "cell_type": "code",
   "execution_count": 22,
   "metadata": {},
   "outputs": [],
   "source": [
    "# # enanle print everywhere\n",
    "# from IPython.core.interactiveshell import InteractiveShell\n",
    "# InteractiveShell.ast_node_interactivity = \"all\" "
   ]
  },
  {
   "cell_type": "code",
   "execution_count": 23,
   "metadata": {},
   "outputs": [],
   "source": [
    "# Module name, and data content\n",
    "name = \"lol\"\n",
    "input_json = {\"name\": \"hi\", \"age\": 1}\n",
    "name = name.lower()\n",
    "entity_name = name.capitalize()\n",
    "# Json"
   ]
  },
  {
   "cell_type": "markdown",
   "metadata": {},
   "source": [
    "# Generates module, controller, service"
   ]
  },
  {
   "cell_type": "code",
   "execution_count": 40,
   "metadata": {},
   "outputs": [
    {
     "name": "stdout",
     "output_type": "stream",
     "text": [
      "\u001b[K\u001b[?25h\u001b[37;40mnpm\u001b[0m \u001b[0m\u001b[30;43mWARN\u001b[0m \u001b[0m\u001b[35mdeprecated\u001b[0m urix@0.1.0: Please see https://github.com/lydell/urix#deprecated\n",
      "\u001b[K\u001b[?25h\u001b[37;40mnpm\u001b[0m \u001b[0m\u001b[30;43mWARN\u001b[0m \u001b[0m\u001b[35mdeprecated\u001b[0m resolve-url@0.2.1: https://github.com/lydell/resolve-url#deprecated\n",
      "\u001b[K\u001b[?25h\u001b[37;40mnpm\u001b[0m \u001b[0m\u001b[30;43mWARN\u001b[0m \u001b[0m\u001b[35mdeprecated\u001b[0m chokidar@2.1.8: Chokidar 2 will break on node v14+. Upgrade to chokidar 3 with 15x less dependencies.\n",
      "\u001b[K\u001b[?25h\u001b[37;40mnpm\u001b[0m \u001b[0m\u001b[30;43mWARN\u001b[0m \u001b[0m\u001b[35mdeprecated\u001b[0m fsevents@1.2.12: fsevents 1 will break on node v14+ and could be using insecure binaries. Upgrade to fsevents 2.\n",
      "\u001b[K\u001b[?25h/Users/stevensheng/.nvm/versions/node/v12.16.1/bin/nest -> /Users/stevensheng/.nvm/versions/node/v12.16.1/lib/node_modules/@nestjs/cli/bin/nest.js\n",
      "\u001b[K\u001b[?25h7m            \u001b[27m\u001b[90m░░░░░░\u001b[0m⸩ ⠹ install:mkdirp: \u001b[32minfo\u001b[0m \u001b[35mlifecycle\u001b[0m mkdirp@0.5.5~install: mkd\u001b[0m\u001b[K\n",
      "> fsevents@1.2.12 install /Users/stevensheng/.nvm/versions/node/v12.16.1/lib/node_modules/@nestjs/cli/node_modules/watchpack/node_modules/fsevents\n",
      "> node-gyp rebuild\n",
      "\n",
      "  SOLINK_MODULE(target) Release/.node\n",
      "  CXX(target) Release/obj.target/fse/fsevents.o\n",
      "  SOLINK_MODULE(target) Release/fse.node\n",
      "\u001b[K\u001b[?25h+ @nestjs/cli@7.1.5░░░░░\u001b[0m⸩ ⠇ postinstall: \u001b[32minfo\u001b[0m \u001b[35mlifecycle\u001b[0m @nestjs/cli@7.1.5~postinstal\u001b[0m\u001b[K[0m\u001b[K\n",
      "added 564 packages from 362 contributors in 48.58s\n"
     ]
    }
   ],
   "source": [
    "# if next cell print nest: command not found, execute this\n",
    "# !npm install -g @nestjs/cli"
   ]
  },
  {
   "cell_type": "code",
   "execution_count": 41,
   "metadata": {},
   "outputs": [
    {
     "name": "stdout",
     "output_type": "stream",
     "text": [
      "\u001b[32mCREATE\u001b[39m src/modules/lol/lol.module.ts (80 bytes)\n",
      "\u001b[37mUPDATE\u001b[39m src/app.module.ts (1789 bytes)\n",
      "\u001b[32mCREATE\u001b[39m src/modules/lol/lol.controller.spec.ts (472 bytes)\n",
      "\u001b[32mCREATE\u001b[39m src/modules/lol/lol.controller.ts (95 bytes)\n",
      "\u001b[37mUPDATE\u001b[39m src/modules/lol/lol.module.ts (162 bytes)\n",
      "\u001b[32mCREATE\u001b[39m src/modules/lol/lol.service.spec.ts (439 bytes)\n",
      "\u001b[32mCREATE\u001b[39m src/modules/lol/lol.service.ts (87 bytes)\n",
      "\u001b[37mUPDATE\u001b[39m src/modules/lol/lol.module.ts (233 bytes)\n"
     ]
    }
   ],
   "source": [
    "! nest g module ./modules/$name\n",
    "! nest g controller ./modules/$name\n",
    "! nest g service ./modules/$name"
   ]
  },
  {
   "cell_type": "markdown",
   "metadata": {},
   "source": [
    "#  Create entity file"
   ]
  },
  {
   "cell_type": "code",
   "execution_count": 42,
   "metadata": {},
   "outputs": [],
   "source": [
    "import json\n",
    "with open(f'{name}.json', 'w') as file:  # Use file to refer to the file object\n",
    "    json.dump(input_json, file)"
   ]
  },
  {
   "cell_type": "code",
   "execution_count": 43,
   "metadata": {},
   "outputs": [
    {
     "data": {
      "text/plain": [
       "{'name': 'hi', 'age': 1}"
      ]
     },
     "execution_count": 43,
     "metadata": {},
     "output_type": "execute_result"
    }
   ],
   "source": [
    "with open(f'{name}.json', 'r') as file:  # Use file to refer to the file object\n",
    "    test_load = json.load(file)\n",
    "test_load"
   ]
  },
  {
   "cell_type": "code",
   "execution_count": 44,
   "metadata": {},
   "outputs": [
    {
     "data": {
      "text/plain": [
       "'\\n\\n  @Column()\\n  @ApiModelProperty()\\n  name: string;\\n\\n  @Column()\\n  @ApiModelProperty()\\n  age: number;'"
      ]
     },
     "execution_count": 44,
     "metadata": {},
     "output_type": "execute_result"
    }
   ],
   "source": [
    "colums = []\n",
    "for x in test_load:\n",
    "    if type(test_load[x]) == str:\n",
    "        colums.append(f\"\\n\\n  @Column()\\n  @ApiModelProperty()\\n  {x}: string;\")\n",
    "    if type(test_load[x]) == int:\n",
    "        colums.append(f\"\\n\\n  @Column()\\n  @ApiModelProperty()\\n  {x}: number;\")\n",
    "#reconstruct list to string\n",
    "colums = ''.join(colums)\n",
    "colums"
   ]
  },
  {
   "cell_type": "code",
   "execution_count": 45,
   "metadata": {},
   "outputs": [
    {
     "data": {
      "text/plain": [
       "314"
      ]
     },
     "execution_count": 45,
     "metadata": {},
     "output_type": "execute_result"
    }
   ],
   "source": [
    "entity = '''\n",
    "import { Entity, PrimaryGeneratedColumn, Column } from 'typeorm';\n",
    "import { ApiModelProperty } from '@nestjs/swagger';\n",
    "@Entity()\n",
    "export class %s {\n",
    "  @PrimaryGeneratedColumn()\n",
    "  @ApiModelProperty()\n",
    "  id: number;%s\n",
    "}\n",
    "'''% (entity_name, colums)\n",
    "with open(f'./src/modules/{name}/{name}.entity.ts', 'w') as file: # Use file to refer to the file object\n",
    "    file.write(entity)\n",
    "entity"
   ]
  },
  {
   "cell_type": "markdown",
   "metadata": {},
   "source": [
    "# Import created entity to module 配置数据库"
   ]
  },
  {
   "cell_type": "code",
   "execution_count": 46,
   "metadata": {},
   "outputs": [
    {
     "data": {
      "text/plain": [
       "370"
      ]
     },
     "execution_count": 46,
     "metadata": {},
     "output_type": "execute_result"
    }
   ],
   "source": [
    "module = '''\n",
    "import { Module } from '@nestjs/common';\n",
    "import { TypeOrmModule } from '@nestjs/typeorm';\n",
    "import { %s } from './%s.entity';\n",
    "import { %sController } from './%s.controller';\n",
    "import { %sService } from './%s.service';\n",
    "\n",
    "@Module({\n",
    "  imports: [\n",
    "    TypeOrmModule.forFeature([%s])],\n",
    "  controllers: [%sController],\n",
    "  providers: [%sService]\n",
    "})\n",
    "export class %sModule {}\n",
    "\n",
    "'''% (entity_name, name, entity_name,name, entity_name, name, entity_name, entity_name, entity_name, entity_name)\n",
    "\n",
    "with open(f'./src/modules/{name}/{name}.module.ts', 'w') as file: # Use file to refer to the file object\n",
    "    file.write(module)\n",
    "module"
   ]
  },
  {
   "cell_type": "markdown",
   "metadata": {},
   "source": [
    "# Regenerate controller with crud"
   ]
  },
  {
   "cell_type": "code",
   "execution_count": 47,
   "metadata": {},
   "outputs": [
    {
     "data": {
      "text/plain": [
       "\"import { Controller } from '@nestjs/common';\\nimport { Crud, CrudController } from '@nestjsx/crud';\\nimport { Lol } from './lol.entity';\\nimport { LolService } from './lol.service';\\nimport { ApiUseTags } from '@nestjs/swagger';\\n\\n@Crud({\\n  model: {\\n    type: Lol,\\n  },\\n})\\n@Controller('lol')\\n@ApiUseTags('Lol')\\nexport class LolController implements CrudController<Lol> {\\n  constructor(public service: LolService) {}\\n}\\n\""
      ]
     },
     "execution_count": 47,
     "metadata": {},
     "output_type": "execute_result"
    },
    {
     "data": {
      "text/plain": [
       "413"
      ]
     },
     "execution_count": 47,
     "metadata": {},
     "output_type": "execute_result"
    }
   ],
   "source": [
    "controller = '''\n",
    "import { Controller } from '@nestjs/common';\n",
    "import { Crud, CrudController } from '@nestjsx/crud';\n",
    "import { %s } from './%s.entity';\n",
    "import { %sService } from './%s.service';\n",
    "import { ApiUseTags } from '@nestjs/swagger';\n",
    "\n",
    "@Crud({\n",
    "  model: {\n",
    "    type: %s,\n",
    "  },\n",
    "})\n",
    "@Controller('%s')\n",
    "@ApiUseTags('%s')\n",
    "export class %sController implements CrudController<%s> {\n",
    "  constructor(public service: %sService) {}\n",
    "}\n",
    "''' %(entity_name, name, entity_name, name, entity_name, name, entity_name, entity_name, entity_name, entity_name)\n",
    "with open(f'./src/modules/{name}/{name}.controller.ts', 'w') as file: # Use file to refer to the file object\n",
    "    file.write(controller)\n",
    "controller"
   ]
  },
  {
   "cell_type": "code",
   "execution_count": 48,
   "metadata": {},
   "outputs": [
    {
     "data": {
      "text/plain": [
       "335"
      ]
     },
     "execution_count": 48,
     "metadata": {},
     "output_type": "execute_result"
    }
   ],
   "source": [
    "service = '''\n",
    "import { Injectable } from '@nestjs/common';\n",
    "import { %s } from './%s.entity';\n",
    "import { InjectRepository } from '@nestjs/typeorm';\n",
    "import { TypeOrmCrudService } from '@nestjsx/crud-typeorm';\n",
    "\n",
    "@Injectable()\n",
    "export class %sService extends TypeOrmCrudService<%s> {\n",
    "  constructor(@InjectRepository(%s) repo) {\n",
    "    super(repo);\n",
    "  }\n",
    "}\n",
    "\n",
    "'''%(entity_name, name, entity_name, entity_name, entity_name)\n",
    "with open(f'./src/modules/{name}/{name}.service.ts', 'w') as file: # Use file to refer to the file object\n",
    "    file.write(service)\n",
    "service"
   ]
  }
 ],
 "metadata": {
  "kernelspec": {
   "display_name": "Python 3",
   "language": "python",
   "name": "python3"
  },
  "language_info": {
   "codemirror_mode": {
    "name": "ipython",
    "version": 3
   },
   "file_extension": ".py",
   "mimetype": "text/x-python",
   "name": "python",
   "nbconvert_exporter": "python",
   "pygments_lexer": "ipython3",
   "version": "3.7.6"
  }
 },
 "nbformat": 4,
 "nbformat_minor": 4
}
